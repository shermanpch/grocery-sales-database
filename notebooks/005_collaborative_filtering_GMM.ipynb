{
 "cells": [
  {
   "cell_type": "code",
   "execution_count": null,
   "id": "60e160a4",
   "metadata": {},
   "outputs": [
    {
     "name": "stdout",
     "output_type": "stream",
     "text": [
      "Working directory set to: /Users/sherman/GitHub/ISYE-6740/Final Project/Workspace\n"
     ]
    }
   ],
   "source": [
    "import os\n",
    "from pathlib import Path\n",
    "\n",
    "\n",
    "# Navigate to the project root directory (where .git is)\n",
    "def find_git_root(path=\".\"):\n",
    "    path = Path(path).resolve()\n",
    "    for parent in [path] + list(path.parents):\n",
    "        if (parent / \".git\").exists():\n",
    "            return parent\n",
    "    return path  # fallback if .git not found\n",
    "\n",
    "\n",
    "project_root = find_git_root()\n",
    "os.chdir(project_root)\n",
    "print(f\"Working directory set to: {project_root}\")"
   ]
  },
  {
   "cell_type": "code",
   "execution_count": 2,
   "id": "80b9caa9",
   "metadata": {},
   "outputs": [],
   "source": [
    "%load_ext autoreload\n",
    "%autoreload 2"
   ]
  },
  {
   "cell_type": "code",
   "execution_count": null,
   "id": "21937ec6",
   "metadata": {},
   "outputs": [],
   "source": [
    "from collections import Counter\n",
    "\n",
    "import matplotlib.pyplot as plt\n",
    "import numpy as np\n",
    "import pandas as pd\n",
    "from implicit.als import AlternatingLeastSquares\n",
    "from scipy.sparse import coo_matrix\n",
    "from sklearn.preprocessing import LabelEncoder\n",
    "\n",
    "pd.set_option(\"display.max_columns\", 50)"
   ]
  },
  {
   "cell_type": "code",
   "execution_count": null,
   "id": "eaf81277",
   "metadata": {},
   "outputs": [
    {
     "data": {
      "text/html": [
       "<div>\n",
       "<style scoped>\n",
       "    .dataframe tbody tr th:only-of-type {\n",
       "        vertical-align: middle;\n",
       "    }\n",
       "\n",
       "    .dataframe tbody tr th {\n",
       "        vertical-align: top;\n",
       "    }\n",
       "\n",
       "    .dataframe thead th {\n",
       "        text-align: right;\n",
       "    }\n",
       "</style>\n",
       "<table border=\"1\" class=\"dataframe\">\n",
       "  <thead>\n",
       "    <tr style=\"text-align: right;\">\n",
       "      <th></th>\n",
       "      <th>CustomerID</th>\n",
       "      <th>ProductName</th>\n",
       "      <th>CategoryName</th>\n",
       "      <th>Class</th>\n",
       "    </tr>\n",
       "  </thead>\n",
       "  <tbody>\n",
       "    <tr>\n",
       "      <th>0</th>\n",
       "      <td>27039</td>\n",
       "      <td>Vaccum Bag 10x13</td>\n",
       "      <td>Confections</td>\n",
       "      <td>High</td>\n",
       "    </tr>\n",
       "    <tr>\n",
       "      <th>1</th>\n",
       "      <td>25011</td>\n",
       "      <td>Sardines</td>\n",
       "      <td>Grain</td>\n",
       "      <td>Low</td>\n",
       "    </tr>\n",
       "    <tr>\n",
       "      <th>2</th>\n",
       "      <td>94024</td>\n",
       "      <td>Crab - Imitation Flakes</td>\n",
       "      <td>Produce</td>\n",
       "      <td>Medium</td>\n",
       "    </tr>\n",
       "    <tr>\n",
       "      <th>3</th>\n",
       "      <td>73966</td>\n",
       "      <td>Smirnoff Green Apple Twist</td>\n",
       "      <td>Seafood</td>\n",
       "      <td>High</td>\n",
       "    </tr>\n",
       "    <tr>\n",
       "      <th>4</th>\n",
       "      <td>32653</td>\n",
       "      <td>Coffee - Dark Roast</td>\n",
       "      <td>Poultry</td>\n",
       "      <td>Low</td>\n",
       "    </tr>\n",
       "  </tbody>\n",
       "</table>\n",
       "</div>"
      ],
      "text/plain": [
       "   CustomerID                 ProductName CategoryName   Class\n",
       "0       27039            Vaccum Bag 10x13  Confections    High\n",
       "1       25011                    Sardines        Grain     Low\n",
       "2       94024     Crab - Imitation Flakes      Produce  Medium\n",
       "3       73966  Smirnoff Green Apple Twist      Seafood    High\n",
       "4       32653         Coffee - Dark Roast      Poultry     Low"
      ]
     },
     "metadata": {},
     "output_type": "display_data"
    },
    {
     "name": "stdout",
     "output_type": "stream",
     "text": [
      "Transaction data shape: (6758125, 4)\n"
     ]
    },
    {
     "data": {
      "text/html": [
       "<div>\n",
       "<style scoped>\n",
       "    .dataframe tbody tr th:only-of-type {\n",
       "        vertical-align: middle;\n",
       "    }\n",
       "\n",
       "    .dataframe tbody tr th {\n",
       "        vertical-align: top;\n",
       "    }\n",
       "\n",
       "    .dataframe thead th {\n",
       "        text-align: right;\n",
       "    }\n",
       "</style>\n",
       "<table border=\"1\" class=\"dataframe\">\n",
       "  <thead>\n",
       "    <tr style=\"text-align: right;\">\n",
       "      <th></th>\n",
       "      <th>CustomerID</th>\n",
       "      <th>cluster_label</th>\n",
       "    </tr>\n",
       "  </thead>\n",
       "  <tbody>\n",
       "    <tr>\n",
       "      <th>0</th>\n",
       "      <td>1</td>\n",
       "      <td>2</td>\n",
       "    </tr>\n",
       "    <tr>\n",
       "      <th>1</th>\n",
       "      <td>2</td>\n",
       "      <td>2</td>\n",
       "    </tr>\n",
       "    <tr>\n",
       "      <th>2</th>\n",
       "      <td>3</td>\n",
       "      <td>2</td>\n",
       "    </tr>\n",
       "    <tr>\n",
       "      <th>3</th>\n",
       "      <td>4</td>\n",
       "      <td>2</td>\n",
       "    </tr>\n",
       "    <tr>\n",
       "      <th>4</th>\n",
       "      <td>5</td>\n",
       "      <td>2</td>\n",
       "    </tr>\n",
       "  </tbody>\n",
       "</table>\n",
       "</div>"
      ],
      "text/plain": [
       "  CustomerID  cluster_label\n",
       "0          1              2\n",
       "1          2              2\n",
       "2          3              2\n",
       "3          4              2\n",
       "4          5              2"
      ]
     },
     "metadata": {},
     "output_type": "display_data"
    },
    {
     "name": "stdout",
     "output_type": "stream",
     "text": [
      "Cluster data shape: (98759, 2)\n"
     ]
    }
   ],
   "source": [
    "transaction_data = pd.read_parquet(\n",
    "    \"data/processed/master_dataset.parquet\",\n",
    "    columns=[\"CustomerID\", \"ProductName\", \"CategoryName\", \"Class\"],\n",
    ")\n",
    "\n",
    "cluster_data = pd.read_parquet(\"data/processed/clustered_customer_GMM.parquet\")\n",
    "\n",
    "display(transaction_data.head())\n",
    "print(f\"Transaction data shape: {transaction_data.shape}\")\n",
    "\n",
    "display(cluster_data.head())\n",
    "print(f\"Cluster data shape: {cluster_data.shape}\")"
   ]
  },
  {
   "cell_type": "code",
   "execution_count": null,
   "id": "36185d49",
   "metadata": {},
   "outputs": [],
   "source": [
    "transaction_data[\"CustomerID\"] = transaction_data[\"CustomerID\"].astype(str)\n",
    "cluster_data[\"CustomerID\"] = cluster_data[\"CustomerID\"].astype(str)"
   ]
  },
  {
   "cell_type": "code",
   "execution_count": null,
   "id": "63314481",
   "metadata": {},
   "outputs": [
    {
     "data": {
      "text/html": [
       "<div>\n",
       "<style scoped>\n",
       "    .dataframe tbody tr th:only-of-type {\n",
       "        vertical-align: middle;\n",
       "    }\n",
       "\n",
       "    .dataframe tbody tr th {\n",
       "        vertical-align: top;\n",
       "    }\n",
       "\n",
       "    .dataframe thead th {\n",
       "        text-align: right;\n",
       "    }\n",
       "</style>\n",
       "<table border=\"1\" class=\"dataframe\">\n",
       "  <thead>\n",
       "    <tr style=\"text-align: right;\">\n",
       "      <th></th>\n",
       "      <th>CustomerID</th>\n",
       "      <th>ProductName</th>\n",
       "      <th>CategoryName</th>\n",
       "      <th>Class</th>\n",
       "      <th>cluster_label</th>\n",
       "    </tr>\n",
       "  </thead>\n",
       "  <tbody>\n",
       "    <tr>\n",
       "      <th>0</th>\n",
       "      <td>27039</td>\n",
       "      <td>Vaccum Bag 10x13</td>\n",
       "      <td>Confections</td>\n",
       "      <td>High</td>\n",
       "      <td>1</td>\n",
       "    </tr>\n",
       "    <tr>\n",
       "      <th>1</th>\n",
       "      <td>25011</td>\n",
       "      <td>Sardines</td>\n",
       "      <td>Grain</td>\n",
       "      <td>Low</td>\n",
       "      <td>1</td>\n",
       "    </tr>\n",
       "    <tr>\n",
       "      <th>2</th>\n",
       "      <td>94024</td>\n",
       "      <td>Crab - Imitation Flakes</td>\n",
       "      <td>Produce</td>\n",
       "      <td>Medium</td>\n",
       "      <td>2</td>\n",
       "    </tr>\n",
       "    <tr>\n",
       "      <th>3</th>\n",
       "      <td>73966</td>\n",
       "      <td>Smirnoff Green Apple Twist</td>\n",
       "      <td>Seafood</td>\n",
       "      <td>High</td>\n",
       "      <td>2</td>\n",
       "    </tr>\n",
       "    <tr>\n",
       "      <th>4</th>\n",
       "      <td>32653</td>\n",
       "      <td>Coffee - Dark Roast</td>\n",
       "      <td>Poultry</td>\n",
       "      <td>Low</td>\n",
       "      <td>1</td>\n",
       "    </tr>\n",
       "  </tbody>\n",
       "</table>\n",
       "</div>"
      ],
      "text/plain": [
       "  CustomerID                 ProductName CategoryName   Class  cluster_label\n",
       "0      27039            Vaccum Bag 10x13  Confections    High              1\n",
       "1      25011                    Sardines        Grain     Low              1\n",
       "2      94024     Crab - Imitation Flakes      Produce  Medium              2\n",
       "3      73966  Smirnoff Green Apple Twist      Seafood    High              2\n",
       "4      32653         Coffee - Dark Roast      Poultry     Low              1"
      ]
     },
     "execution_count": 6,
     "metadata": {},
     "output_type": "execute_result"
    }
   ],
   "source": [
    "df = pd.merge(\n",
    "    transaction_data,\n",
    "    cluster_data,\n",
    "    on=\"CustomerID\",\n",
    "    how=\"left\",\n",
    "    validate=\"m:1\",\n",
    ")\n",
    "\n",
    "df.head()"
   ]
  },
  {
   "cell_type": "code",
   "execution_count": null,
   "id": "dbbf657f",
   "metadata": {},
   "outputs": [
    {
     "name": "stderr",
     "output_type": "stream",
     "text": [
      "/Users/sherman/Downloads/jupyter/lib/python3.9/site-packages/implicit/cpu/als.py:95: RuntimeWarning: OpenBLAS is configured to use 8 threads. It is highly recommended to disable its internal threadpool by setting the environment variable 'OPENBLAS_NUM_THREADS=1' or by calling 'threadpoolctl.threadpool_limits(1, \"blas\")'. Having OpenBLAS use a threadpool can lead to severe performance issues here.\n",
      "  check_blas_config()\n"
     ]
    },
    {
     "data": {
      "application/vnd.jupyter.widget-view+json": {
       "model_id": "319135b1cb5f4f1593f77ccf4438996b",
       "version_major": 2,
       "version_minor": 0
      },
      "text/plain": [
       "  0%|          | 0/15 [00:00<?, ?it/s]"
      ]
     },
     "metadata": {},
     "output_type": "display_data"
    },
    {
     "name": "stdout",
     "output_type": "stream",
     "text": [
      "Model for cluster 1 trained with shape (452, 22463)\n"
     ]
    },
    {
     "data": {
      "application/vnd.jupyter.widget-view+json": {
       "model_id": "d79950ca1982428bad7939c40ba0feca",
       "version_major": 2,
       "version_minor": 0
      },
      "text/plain": [
       "  0%|          | 0/15 [00:00<?, ?it/s]"
      ]
     },
     "metadata": {},
     "output_type": "display_data"
    },
    {
     "name": "stdout",
     "output_type": "stream",
     "text": [
      "Model for cluster 2 trained with shape (452, 47197)\n"
     ]
    },
    {
     "data": {
      "application/vnd.jupyter.widget-view+json": {
       "model_id": "dc9e1b28163b483bb33d6c9dbd0e7b7e",
       "version_major": 2,
       "version_minor": 0
      },
      "text/plain": [
       "  0%|          | 0/15 [00:00<?, ?it/s]"
      ]
     },
     "metadata": {},
     "output_type": "display_data"
    },
    {
     "name": "stdout",
     "output_type": "stream",
     "text": [
      "Model for cluster 3 trained with shape (452, 25301)\n"
     ]
    },
    {
     "data": {
      "application/vnd.jupyter.widget-view+json": {
       "model_id": "626b178904f34881b5f89fae80e9e90b",
       "version_major": 2,
       "version_minor": 0
      },
      "text/plain": [
       "  0%|          | 0/15 [00:00<?, ?it/s]"
      ]
     },
     "metadata": {},
     "output_type": "display_data"
    },
    {
     "name": "stdout",
     "output_type": "stream",
     "text": [
      "Model for cluster 0 trained with shape (452, 3798)\n"
     ]
    }
   ],
   "source": [
    "# Store final models and matrices\n",
    "cluster_models = {}\n",
    "user_encoders = {}\n",
    "item_encoders = {}\n",
    "matrix_item_user = {}\n",
    "matrix_user_item = {}\n",
    "\n",
    "for cluster in df[\"cluster_label\"].unique():\n",
    "    # Filter data\n",
    "    cluster_df = df[df[\"cluster_label\"] == cluster].copy()\n",
    "\n",
    "    # Encode users and items\n",
    "    user_encoder = LabelEncoder()\n",
    "    item_encoder = LabelEncoder()\n",
    "    cluster_df[\"user_idx\"] = user_encoder.fit_transform(cluster_df[\"CustomerID\"])\n",
    "    cluster_df[\"item_idx\"] = item_encoder.fit_transform(cluster_df[\"ProductName\"])\n",
    "    cluster_df[\"interaction\"] = 1\n",
    "\n",
    "    # Build full interaction matrix\n",
    "    grouped = (\n",
    "        cluster_df.groupby([\"user_idx\", \"item_idx\"])[\"interaction\"].sum().reset_index()\n",
    "    )\n",
    "\n",
    "    matrix = coo_matrix(\n",
    "        (grouped[\"interaction\"], (grouped[\"item_idx\"], grouped[\"user_idx\"]))\n",
    "    ).tocsr()\n",
    "\n",
    "    # Train ALS model\n",
    "    model = AlternatingLeastSquares(\n",
    "        factors=100,\n",
    "        regularization=0.01,\n",
    "        iterations=15,\n",
    "    )\n",
    "    model.fit(matrix)\n",
    "\n",
    "    # Save model + encoders + matrices\n",
    "    cluster_models[cluster] = model\n",
    "    user_encoders[cluster] = user_encoder\n",
    "    item_encoders[cluster] = item_encoder\n",
    "    matrix_item_user[cluster] = matrix\n",
    "    matrix_user_item[cluster] = matrix.T.tocsr()\n",
    "\n",
    "    print(f\"Model for cluster {cluster} trained with shape {matrix.shape}\")"
   ]
  },
  {
   "cell_type": "markdown",
   "id": "5183ec1a",
   "metadata": {},
   "source": [
    "# Top N Recommended Items per Cluster\n"
   ]
  },
  {
   "cell_type": "code",
   "execution_count": null,
   "id": "feb20e3f",
   "metadata": {},
   "outputs": [
    {
     "data": {
      "text/html": [
       "<div>\n",
       "<style scoped>\n",
       "    .dataframe tbody tr th:only-of-type {\n",
       "        vertical-align: middle;\n",
       "    }\n",
       "\n",
       "    .dataframe tbody tr th {\n",
       "        vertical-align: top;\n",
       "    }\n",
       "\n",
       "    .dataframe thead th {\n",
       "        text-align: right;\n",
       "    }\n",
       "</style>\n",
       "<table border=\"1\" class=\"dataframe\">\n",
       "  <thead>\n",
       "    <tr style=\"text-align: right;\">\n",
       "      <th></th>\n",
       "      <th>Cluster</th>\n",
       "      <th>Rank</th>\n",
       "      <th>ProductName</th>\n",
       "    </tr>\n",
       "  </thead>\n",
       "  <tbody>\n",
       "    <tr>\n",
       "      <th>0</th>\n",
       "      <td>1</td>\n",
       "      <td>1</td>\n",
       "      <td>Sausage - Breakfast</td>\n",
       "    </tr>\n",
       "    <tr>\n",
       "      <th>1</th>\n",
       "      <td>1</td>\n",
       "      <td>2</td>\n",
       "      <td>Bouq All Italian - Primerba</td>\n",
       "    </tr>\n",
       "    <tr>\n",
       "      <th>2</th>\n",
       "      <td>1</td>\n",
       "      <td>3</td>\n",
       "      <td>Beans - Kidney, Red Dry</td>\n",
       "    </tr>\n",
       "    <tr>\n",
       "      <th>3</th>\n",
       "      <td>1</td>\n",
       "      <td>4</td>\n",
       "      <td>Soup V8 Roasted Red Pepper</td>\n",
       "    </tr>\n",
       "    <tr>\n",
       "      <th>4</th>\n",
       "      <td>1</td>\n",
       "      <td>5</td>\n",
       "      <td>Table Cloth 81x81 White</td>\n",
       "    </tr>\n",
       "  </tbody>\n",
       "</table>\n",
       "</div>"
      ],
      "text/plain": [
       "   Cluster  Rank                  ProductName\n",
       "0        1     1          Sausage - Breakfast\n",
       "1        1     2  Bouq All Italian - Primerba\n",
       "2        1     3      Beans - Kidney, Red Dry\n",
       "3        1     4   Soup V8 Roasted Red Pepper\n",
       "4        1     5      Table Cloth 81x81 White"
      ]
     },
     "execution_count": 8,
     "metadata": {},
     "output_type": "execute_result"
    }
   ],
   "source": [
    "def get_top_items(model, item_encoder, top_n=10):\n",
    "    # Total number of trained items\n",
    "    n_items_trained = len(item_encoder.classes_)\n",
    "\n",
    "    # Score each item by its total affinity across all users\n",
    "    scores = model.item_factors[:n_items_trained] @ model.user_factors.T\n",
    "    total_scores = scores.sum(axis=1)\n",
    "\n",
    "    # Get top-N item indices\n",
    "    top_items_idx = np.argsort(total_scores)[::-1][:top_n]\n",
    "\n",
    "    # Map to actual product names\n",
    "    return list(item_encoder.inverse_transform(top_items_idx))\n",
    "\n",
    "\n",
    "top_items_per_cluster = {}\n",
    "top_items_records = []\n",
    "\n",
    "for cluster in cluster_models:\n",
    "    top_items = get_top_items(\n",
    "        cluster_models[cluster],\n",
    "        item_encoders[cluster],\n",
    "        top_n=30,\n",
    "    )\n",
    "    top_items_per_cluster[cluster] = top_items\n",
    "\n",
    "    for rank, item in enumerate(top_items, start=1):\n",
    "        top_items_records.append(\n",
    "            {\"Cluster\": cluster, \"Rank\": rank, \"ProductName\": item}\n",
    "        )\n",
    "\n",
    "top_items_df = pd.DataFrame(top_items_records)\n",
    "top_items_df.head()"
   ]
  },
  {
   "cell_type": "markdown",
   "id": "f3625786",
   "metadata": {},
   "source": [
    "# Category Distribution of Recommendations\n"
   ]
  },
  {
   "cell_type": "code",
   "execution_count": null,
   "id": "a1f695a9",
   "metadata": {},
   "outputs": [],
   "source": [
    "# Create a mapping from ProductName to Class\n",
    "product_to_class = (\n",
    "    df[[\"ProductName\", \"Class\"]]\n",
    "    .drop_duplicates(\"ProductName\")\n",
    "    .set_index(\"ProductName\")[\"Class\"]\n",
    "    .to_dict()\n",
    ")\n",
    "\n",
    "# Calculate Class counts for recommendations in each cluster\n",
    "class_counts_per_cluster = {}\n",
    "\n",
    "for cluster, recommended_items in top_items_per_cluster.items():\n",
    "    class_counts = Counter()\n",
    "    for item_name in recommended_items:\n",
    "        item_class = product_to_class.get(item_name)\n",
    "        if item_class:\n",
    "            class_counts[item_class] += 1\n",
    "        else:\n",
    "            print(\n",
    "                f\"Warning: Class not found for recommended item '{item_name}' in cluster {cluster}\"\n",
    "            )\n",
    "    class_counts_per_cluster[cluster] = dict(class_counts)\n",
    "\n",
    "# Convert results to a DataFrame\n",
    "class_dist_df = (\n",
    "    pd.DataFrame.from_dict(class_counts_per_cluster, orient=\"index\")\n",
    "    .fillna(0)\n",
    "    .astype(int)\n",
    "    .rename_axis(\"cluster_label\")\n",
    ")\n",
    "\n",
    "# Reorder columns\n",
    "class_order = [\"Low\", \"Medium\", \"High\"]\n",
    "for c in class_order:\n",
    "    if c not in class_dist_df.columns:\n",
    "        class_dist_df[c] = 0\n",
    "class_dist_df = class_dist_df[class_order]\n",
    "class_dist_df = class_dist_df.sort_index()"
   ]
  },
  {
   "cell_type": "code",
   "execution_count": null,
   "id": "7189ce6e",
   "metadata": {},
   "outputs": [
    {
     "data": {
      "image/png": "[encoded data removed]",
      "text/plain": [
       "<Figure size 1000x600 with 1 Axes>"
      ]
     },
     "metadata": {},
     "output_type": "display_data"
    },
    {
     "name": "stdout",
     "output_type": "stream",
     "text": [
      "\n",
      "Class Proportion of Top Recommended Items per Cluster:\n"
     ]
    },
    {
     "data": {
      "text/html": [
       "<div>\n",
       "<style scoped>\n",
       "    .dataframe tbody tr th:only-of-type {\n",
       "        vertical-align: middle;\n",
       "    }\n",
       "\n",
       "    .dataframe tbody tr th {\n",
       "        vertical-align: top;\n",
       "    }\n",
       "\n",
       "    .dataframe thead th {\n",
       "        text-align: right;\n",
       "    }\n",
       "</style>\n",
       "<table border=\"1\" class=\"dataframe\">\n",
       "  <thead>\n",
       "    <tr style=\"text-align: right;\">\n",
       "      <th></th>\n",
       "      <th>Low</th>\n",
       "      <th>Medium</th>\n",
       "      <th>High</th>\n",
       "    </tr>\n",
       "    <tr>\n",
       "      <th>cluster_label</th>\n",
       "      <th></th>\n",
       "      <th></th>\n",
       "      <th></th>\n",
       "    </tr>\n",
       "  </thead>\n",
       "  <tbody>\n",
       "    <tr>\n",
       "      <th>0</th>\n",
       "      <td>0.366667</td>\n",
       "      <td>0.366667</td>\n",
       "      <td>0.266667</td>\n",
       "    </tr>\n",
       "    <tr>\n",
       "      <th>1</th>\n",
       "      <td>0.366667</td>\n",
       "      <td>0.333333</td>\n",
       "      <td>0.300000</td>\n",
       "    </tr>\n",
       "    <tr>\n",
       "      <th>2</th>\n",
       "      <td>0.333333</td>\n",
       "      <td>0.366667</td>\n",
       "      <td>0.300000</td>\n",
       "    </tr>\n",
       "    <tr>\n",
       "      <th>3</th>\n",
       "      <td>0.166667</td>\n",
       "      <td>0.466667</td>\n",
       "      <td>0.366667</td>\n",
       "    </tr>\n",
       "  </tbody>\n",
       "</table>\n",
       "</div>"
      ],
      "text/plain": [
       "                    Low    Medium      High\n",
       "cluster_label                              \n",
       "0              0.366667  0.366667  0.266667\n",
       "1              0.366667  0.333333  0.300000\n",
       "2              0.333333  0.366667  0.300000\n",
       "3              0.166667  0.466667  0.366667"
      ]
     },
     "metadata": {},
     "output_type": "display_data"
    },
    {
     "data": {
      "image/png": "[encoded data removed]",
      "text/plain": [
       "<Figure size 1000x600 with 1 Axes>"
      ]
     },
     "metadata": {},
     "output_type": "display_data"
    }
   ],
   "source": [
    "# Get number of top recommendations per cluster\n",
    "num_recommendations = len(top_items_per_cluster[0])\n",
    "\n",
    "# Visualization: Grouped Bar Chart\n",
    "fig, ax = plt.subplots(figsize=(10, 6))\n",
    "class_dist_df.plot(kind=\"bar\", ax=ax, width=0.8)\n",
    "\n",
    "ax.set_title(\n",
    "    f\"Class Distribution of Top {num_recommendations} Recommendations per Cluster\"\n",
    ")\n",
    "ax.set_xlabel(\"Cluster Label\")\n",
    "ax.set_ylabel(\"Number of Recommended Items in Class\")\n",
    "ax.tick_params(axis=\"x\", rotation=0)\n",
    "ax.legend(title=\"Class\", bbox_to_anchor=(1.02, 1), loc=\"upper left\")\n",
    "plt.tight_layout(rect=[0, 0, 0.88, 1])\n",
    "plt.show()\n",
    "\n",
    "# Proportion of recommendations per class\n",
    "class_prop_df = class_dist_df.apply(lambda x: x / x.sum(), axis=1).fillna(0)\n",
    "print(\"\\nClass Proportion of Top Recommended Items per Cluster:\")\n",
    "display(class_prop_df)\n",
    "\n",
    "# Visualization: Stacked Bar Chart for Proportions\n",
    "fig_prop, ax_prop = plt.subplots(figsize=(10, 6))\n",
    "class_prop_df.plot(kind=\"bar\", stacked=True, ax=ax_prop, width=0.8)\n",
    "\n",
    "ax_prop.set_title(\n",
    "    f\"Class Proportion of Top {num_recommendations} Recommendations per Cluster\"\n",
    ")\n",
    "ax_prop.set_xlabel(\"Cluster Label\")\n",
    "ax_prop.set_ylabel(\"Proportion of Recommendations\")\n",
    "ax_prop.tick_params(axis=\"x\", rotation=0)\n",
    "ax_prop.legend(title=\"Class\", bbox_to_anchor=(1.02, 1), loc=\"upper left\")\n",
    "ax_prop.set_ylim(0, 1)\n",
    "plt.tight_layout(rect=[0, 0, 0.88, 1])\n",
    "plt.show()"
   ]
  }
 ],
 "metadata": {
  "kernelspec": {
   "display_name": "jupyter",
   "language": "python",
   "name": "python3"
  },
  "language_info": {
   "codemirror_mode": {
    "name": "ipython",
    "version": 3
   },
   "file_extension": ".py",
   "mimetype": "text/x-python",
   "name": "python",
   "nbconvert_exporter": "python",
   "pygments_lexer": "ipython3",
   "version": "3.9.6"
  }
 },
 "nbformat": 4,
 "nbformat_minor": 5
}
